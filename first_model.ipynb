{
 "cells": [
  {
   "cell_type": "code",
   "execution_count": 1,
   "metadata": {},
   "outputs": [
    {
     "name": "stdout",
     "output_type": "stream",
     "text": [
      "Collecting transformers\n",
      "  Downloading transformers-4.46.1-py3-none-any.whl.metadata (44 kB)\n",
      "Collecting filelock (from transformers)\n",
      "  Downloading filelock-3.16.1-py3-none-any.whl.metadata (2.9 kB)\n",
      "Collecting huggingface-hub<1.0,>=0.23.2 (from transformers)\n",
      "  Downloading huggingface_hub-0.26.2-py3-none-any.whl.metadata (13 kB)\n",
      "Requirement already satisfied: numpy>=1.17 in c:\\users\\dilina pramodya\\appdata\\local\\programs\\python\\python312\\lib\\site-packages (from transformers) (1.26.4)\n",
      "Requirement already satisfied: packaging>=20.0 in c:\\users\\dilina pramodya\\appdata\\local\\programs\\python\\python312\\lib\\site-packages (from transformers) (23.2)\n",
      "Collecting pyyaml>=5.1 (from transformers)\n",
      "  Downloading PyYAML-6.0.2-cp312-cp312-win_amd64.whl.metadata (2.1 kB)\n",
      "Collecting regex!=2019.12.17 (from transformers)\n",
      "  Downloading regex-2024.9.11-cp312-cp312-win_amd64.whl.metadata (41 kB)\n",
      "Collecting requests (from transformers)\n",
      "  Downloading requests-2.32.3-py3-none-any.whl.metadata (4.6 kB)\n",
      "Collecting safetensors>=0.4.1 (from transformers)\n",
      "  Downloading safetensors-0.4.5-cp312-none-win_amd64.whl.metadata (3.9 kB)\n",
      "Collecting tokenizers<0.21,>=0.20 (from transformers)\n",
      "  Downloading tokenizers-0.20.1-cp312-none-win_amd64.whl.metadata (6.9 kB)\n",
      "Collecting tqdm>=4.27 (from transformers)\n",
      "  Downloading tqdm-4.66.6-py3-none-any.whl.metadata (57 kB)\n",
      "Collecting fsspec>=2023.5.0 (from huggingface-hub<1.0,>=0.23.2->transformers)\n",
      "  Downloading fsspec-2024.10.0-py3-none-any.whl.metadata (11 kB)\n",
      "Requirement already satisfied: typing-extensions>=3.7.4.3 in c:\\users\\dilina pramodya\\appdata\\local\\programs\\python\\python312\\lib\\site-packages (from huggingface-hub<1.0,>=0.23.2->transformers) (4.9.0)\n",
      "Requirement already satisfied: colorama in c:\\users\\dilina pramodya\\appdata\\local\\programs\\python\\python312\\lib\\site-packages (from tqdm>=4.27->transformers) (0.4.6)\n",
      "Collecting charset-normalizer<4,>=2 (from requests->transformers)\n",
      "  Downloading charset_normalizer-3.4.0-cp312-cp312-win_amd64.whl.metadata (34 kB)\n",
      "Collecting idna<4,>=2.5 (from requests->transformers)\n",
      "  Downloading idna-3.10-py3-none-any.whl.metadata (10 kB)\n",
      "Collecting urllib3<3,>=1.21.1 (from requests->transformers)\n",
      "  Downloading urllib3-2.2.3-py3-none-any.whl.metadata (6.5 kB)\n",
      "Collecting certifi>=2017.4.17 (from requests->transformers)\n",
      "  Downloading certifi-2024.8.30-py3-none-any.whl.metadata (2.2 kB)\n",
      "Downloading transformers-4.46.1-py3-none-any.whl (10.0 MB)\n",
      "   ---------------------------------------- 0.0/10.0 MB ? eta -:--:--\n",
      "   ---------------------------------------- 0.0/10.0 MB ? eta -:--:--\n",
      "   - -------------------------------------- 0.3/10.0 MB ? eta -:--:--\n",
      "   - -------------------------------------- 0.3/10.0 MB ? eta -:--:--\n",
      "   -- ------------------------------------- 0.5/10.0 MB 558.9 kB/s eta 0:00:18\n",
      "   --- ------------------------------------ 0.8/10.0 MB 859.5 kB/s eta 0:00:11\n",
      "   ---- ----------------------------------- 1.0/10.0 MB 867.1 kB/s eta 0:00:11\n",
      "   ---- ----------------------------------- 1.0/10.0 MB 867.1 kB/s eta 0:00:11\n",
      "   ----- ---------------------------------- 1.3/10.0 MB 860.2 kB/s eta 0:00:11\n",
      "   ------ --------------------------------- 1.6/10.0 MB 855.6 kB/s eta 0:00:10\n",
      "   ------ --------------------------------- 1.6/10.0 MB 855.6 kB/s eta 0:00:10\n",
      "   ------- -------------------------------- 1.8/10.0 MB 867.5 kB/s eta 0:00:10\n",
      "   ------- -------------------------------- 1.8/10.0 MB 867.5 kB/s eta 0:00:10\n",
      "   --------- ------------------------------ 2.4/10.0 MB 860.2 kB/s eta 0:00:09\n",
      "   --------- ------------------------------ 2.4/10.0 MB 860.2 kB/s eta 0:00:09\n",
      "   ---------- ----------------------------- 2.6/10.0 MB 862.6 kB/s eta 0:00:09\n",
      "   ----------- ---------------------------- 2.9/10.0 MB 860.3 kB/s eta 0:00:09\n",
      "   ----------- ---------------------------- 2.9/10.0 MB 860.3 kB/s eta 0:00:09\n",
      "   ------------ --------------------------- 3.1/10.0 MB 862.3 kB/s eta 0:00:08\n",
      "   ------------- -------------------------- 3.4/10.0 MB 864.0 kB/s eta 0:00:08\n",
      "   ------------- -------------------------- 3.4/10.0 MB 864.0 kB/s eta 0:00:08\n",
      "   -------------- ------------------------- 3.7/10.0 MB 865.4 kB/s eta 0:00:08\n",
      "   --------------- ------------------------ 3.9/10.0 MB 866.6 kB/s eta 0:00:08\n",
      "   ---------------- ----------------------- 4.2/10.0 MB 861.7 kB/s eta 0:00:07\n",
      "   ---------------- ----------------------- 4.2/10.0 MB 861.7 kB/s eta 0:00:07\n",
      "   ----------------- ---------------------- 4.5/10.0 MB 863.0 kB/s eta 0:00:07\n",
      "   ------------------ --------------------- 4.7/10.0 MB 864.2 kB/s eta 0:00:07\n",
      "   ------------------ --------------------- 4.7/10.0 MB 864.2 kB/s eta 0:00:07\n",
      "   ------------------- -------------------- 5.0/10.0 MB 862.8 kB/s eta 0:00:06\n",
      "   -------------------- ------------------- 5.2/10.0 MB 863.8 kB/s eta 0:00:06\n",
      "   --------------------- ------------------ 5.5/10.0 MB 864.7 kB/s eta 0:00:06\n",
      "   --------------------- ------------------ 5.5/10.0 MB 864.7 kB/s eta 0:00:06\n",
      "   ---------------------- ----------------- 5.8/10.0 MB 865.6 kB/s eta 0:00:05\n",
      "   ------------------------ --------------- 6.0/10.0 MB 862.3 kB/s eta 0:00:05\n",
      "   ------------------------ --------------- 6.0/10.0 MB 862.3 kB/s eta 0:00:05\n",
      "   ------------------------- -------------- 6.3/10.0 MB 863.2 kB/s eta 0:00:05\n",
      "   -------------------------- ------------- 6.6/10.0 MB 862.2 kB/s eta 0:00:05\n",
      "   -------------------------- ------------- 6.6/10.0 MB 862.2 kB/s eta 0:00:05\n",
      "   --------------------------- ------------ 6.8/10.0 MB 861.2 kB/s eta 0:00:04\n",
      "   ---------------------------- ----------- 7.1/10.0 MB 862.0 kB/s eta 0:00:04\n",
      "   ---------------------------- ----------- 7.1/10.0 MB 862.0 kB/s eta 0:00:04\n",
      "   ----------------------------- ---------- 7.3/10.0 MB 861.2 kB/s eta 0:00:04\n",
      "   ------------------------------ --------- 7.6/10.0 MB 861.9 kB/s eta 0:00:03\n",
      "   ------------------------------- -------- 7.9/10.0 MB 861.1 kB/s eta 0:00:03\n",
      "   ------------------------------- -------- 7.9/10.0 MB 861.1 kB/s eta 0:00:03\n",
      "   -------------------------------- ------- 8.1/10.0 MB 861.8 kB/s eta 0:00:03\n",
      "   --------------------------------- ------ 8.4/10.0 MB 862.5 kB/s eta 0:00:02\n",
      "   --------------------------------- ------ 8.4/10.0 MB 862.5 kB/s eta 0:00:02\n",
      "   ---------------------------------- ----- 8.7/10.0 MB 861.7 kB/s eta 0:00:02\n",
      "   ----------------------------------- ---- 8.9/10.0 MB 862.3 kB/s eta 0:00:02\n",
      "   ----------------------------------- ---- 8.9/10.0 MB 862.3 kB/s eta 0:00:02\n",
      "   ------------------------------------ --- 9.2/10.0 MB 861.6 kB/s eta 0:00:01\n",
      "   ------------------------------------- -- 9.4/10.0 MB 863.5 kB/s eta 0:00:01\n",
      "   ------------------------------------- -- 9.4/10.0 MB 863.5 kB/s eta 0:00:01\n",
      "   -------------------------------------- - 9.7/10.0 MB 861.6 kB/s eta 0:00:01\n",
      "   ---------------------------------------  10.0/10.0 MB 862.2 kB/s eta 0:00:01\n",
      "   ---------------------------------------  10.0/10.0 MB 862.2 kB/s eta 0:00:01\n",
      "   ---------------------------------------- 10.0/10.0 MB 787.6 kB/s eta 0:00:00\n",
      "Downloading huggingface_hub-0.26.2-py3-none-any.whl (447 kB)\n",
      "Downloading PyYAML-6.0.2-cp312-cp312-win_amd64.whl (156 kB)\n",
      "Downloading regex-2024.9.11-cp312-cp312-win_amd64.whl (273 kB)\n",
      "Downloading safetensors-0.4.5-cp312-none-win_amd64.whl (286 kB)\n",
      "Downloading tokenizers-0.20.1-cp312-none-win_amd64.whl (2.4 MB)\n",
      "   ---------------------------------------- 0.0/2.4 MB ? eta -:--:--\n",
      "   ---------------------------------------- 0.0/2.4 MB ? eta -:--:--\n",
      "   ---- ----------------------------------- 0.3/2.4 MB ? eta -:--:--\n",
      "   -------- ------------------------------- 0.5/2.4 MB 882.6 kB/s eta 0:00:03\n",
      "   -------- ------------------------------- 0.5/2.4 MB 882.6 kB/s eta 0:00:03\n",
      "   ------------- -------------------------- 0.8/2.4 MB 882.6 kB/s eta 0:00:02\n",
      "   ----------------- ---------------------- 1.0/2.4 MB 868.0 kB/s eta 0:00:02\n",
      "   ----------------- ---------------------- 1.0/2.4 MB 868.0 kB/s eta 0:00:02\n",
      "   ---------------------- ----------------- 1.3/2.4 MB 860.2 kB/s eta 0:00:02\n",
      "   ---------------------- ----------------- 1.3/2.4 MB 860.2 kB/s eta 0:00:02\n",
      "   -------------------------- ------------- 1.6/2.4 MB 749.0 kB/s eta 0:00:02\n",
      "   ------------------------------ --------- 1.8/2.4 MB 818.3 kB/s eta 0:00:01\n",
      "   ----------------------------------- ---- 2.1/2.4 MB 863.5 kB/s eta 0:00:01\n",
      "   ---------------------------------------  2.4/2.4 MB 860.5 kB/s eta 0:00:01\n",
      "   ---------------------------------------  2.4/2.4 MB 860.5 kB/s eta 0:00:01\n",
      "   ---------------------------------------  2.4/2.4 MB 860.5 kB/s eta 0:00:01\n",
      "   ---------------------------------------  2.4/2.4 MB 860.5 kB/s eta 0:00:01\n",
      "   ---------------------------------------- 2.4/2.4 MB 667.0 kB/s eta 0:00:00\n",
      "Downloading tqdm-4.66.6-py3-none-any.whl (78 kB)\n",
      "Downloading filelock-3.16.1-py3-none-any.whl (16 kB)\n",
      "Downloading requests-2.32.3-py3-none-any.whl (64 kB)\n",
      "Downloading certifi-2024.8.30-py3-none-any.whl (167 kB)\n",
      "Downloading charset_normalizer-3.4.0-cp312-cp312-win_amd64.whl (102 kB)\n",
      "Downloading fsspec-2024.10.0-py3-none-any.whl (179 kB)\n",
      "Downloading idna-3.10-py3-none-any.whl (70 kB)\n",
      "Downloading urllib3-2.2.3-py3-none-any.whl (126 kB)\n",
      "Installing collected packages: urllib3, tqdm, safetensors, regex, pyyaml, idna, fsspec, filelock, charset-normalizer, certifi, requests, huggingface-hub, tokenizers, transformers\n",
      "Successfully installed certifi-2024.8.30 charset-normalizer-3.4.0 filelock-3.16.1 fsspec-2024.10.0 huggingface-hub-0.26.2 idna-3.10 pyyaml-6.0.2 regex-2024.9.11 requests-2.32.3 safetensors-0.4.5 tokenizers-0.20.1 tqdm-4.66.6 transformers-4.46.1 urllib3-2.2.3\n"
     ]
    },
    {
     "name": "stderr",
     "output_type": "stream",
     "text": [
      "\n",
      "[notice] A new release of pip is available: 24.2 -> 24.3.1\n",
      "[notice] To update, run: python.exe -m pip install --upgrade pip\n"
     ]
    }
   ],
   "source": [
    "!pip install transformers"
   ]
  },
  {
   "cell_type": "code",
   "execution_count": 7,
   "metadata": {},
   "outputs": [
    {
     "ename": "KeyError",
     "evalue": "\"Unknown task conversational, available tasks are ['audio-classification', 'automatic-speech-recognition', 'depth-estimation', 'document-question-answering', 'feature-extraction', 'fill-mask', 'image-classification', 'image-feature-extraction', 'image-segmentation', 'image-to-image', 'image-to-text', 'mask-generation', 'ner', 'object-detection', 'question-answering', 'sentiment-analysis', 'summarization', 'table-question-answering', 'text-classification', 'text-generation', 'text-to-audio', 'text-to-speech', 'text2text-generation', 'token-classification', 'translation', 'video-classification', 'visual-question-answering', 'vqa', 'zero-shot-audio-classification', 'zero-shot-classification', 'zero-shot-image-classification', 'zero-shot-object-detection', 'translation_XX_to_YY']\"",
     "output_type": "error",
     "traceback": [
      "\u001b[1;31m---------------------------------------------------------------------------\u001b[0m",
      "\u001b[1;31mKeyError\u001b[0m                                  Traceback (most recent call last)",
      "Cell \u001b[1;32mIn[7], line 4\u001b[0m\n\u001b[0;32m      1\u001b[0m \u001b[38;5;28;01mfrom\u001b[39;00m \u001b[38;5;21;01mtransformers\u001b[39;00m \u001b[38;5;28;01mimport\u001b[39;00m pipeline\n\u001b[0;32m      3\u001b[0m \u001b[38;5;66;03m# Use the Hugging Face model repository ID\u001b[39;00m\n\u001b[1;32m----> 4\u001b[0m chatbot \u001b[38;5;241m=\u001b[39m \u001b[43mpipeline\u001b[49m\u001b[43m(\u001b[49m\u001b[43mtask\u001b[49m\u001b[38;5;241;43m=\u001b[39;49m\u001b[38;5;124;43m\"\u001b[39;49m\u001b[38;5;124;43mconversational\u001b[39;49m\u001b[38;5;124;43m\"\u001b[39;49m\u001b[43m,\u001b[49m\u001b[43m \u001b[49m\u001b[43mmodel\u001b[49m\u001b[38;5;241;43m=\u001b[39;49m\u001b[38;5;124;43m\"\u001b[39;49m\u001b[38;5;124;43mfacebook/blenderbot-400M-distill\u001b[39;49m\u001b[38;5;124;43m\"\u001b[39;49m\u001b[43m)\u001b[49m\n",
      "File \u001b[1;32mc:\\Users\\Dilina Pramodya\\AppData\\Local\\Programs\\Python\\Python312\\Lib\\site-packages\\transformers\\pipelines\\__init__.py:879\u001b[0m, in \u001b[0;36mpipeline\u001b[1;34m(task, model, config, tokenizer, feature_extractor, image_processor, processor, framework, revision, use_fast, token, device, device_map, torch_dtype, trust_remote_code, model_kwargs, pipeline_class, **kwargs)\u001b[0m\n\u001b[0;32m    872\u001b[0m         pipeline_class \u001b[38;5;241m=\u001b[39m get_class_from_dynamic_module(\n\u001b[0;32m    873\u001b[0m             class_ref,\n\u001b[0;32m    874\u001b[0m             model,\n\u001b[0;32m    875\u001b[0m             code_revision\u001b[38;5;241m=\u001b[39mcode_revision,\n\u001b[0;32m    876\u001b[0m             \u001b[38;5;241m*\u001b[39m\u001b[38;5;241m*\u001b[39mhub_kwargs,\n\u001b[0;32m    877\u001b[0m         )\n\u001b[0;32m    878\u001b[0m \u001b[38;5;28;01melse\u001b[39;00m:\n\u001b[1;32m--> 879\u001b[0m     normalized_task, targeted_task, task_options \u001b[38;5;241m=\u001b[39m \u001b[43mcheck_task\u001b[49m\u001b[43m(\u001b[49m\u001b[43mtask\u001b[49m\u001b[43m)\u001b[49m\n\u001b[0;32m    880\u001b[0m     \u001b[38;5;28;01mif\u001b[39;00m pipeline_class \u001b[38;5;129;01mis\u001b[39;00m \u001b[38;5;28;01mNone\u001b[39;00m:\n\u001b[0;32m    881\u001b[0m         pipeline_class \u001b[38;5;241m=\u001b[39m targeted_task[\u001b[38;5;124m\"\u001b[39m\u001b[38;5;124mimpl\u001b[39m\u001b[38;5;124m\"\u001b[39m]\n",
      "File \u001b[1;32mc:\\Users\\Dilina Pramodya\\AppData\\Local\\Programs\\Python\\Python312\\Lib\\site-packages\\transformers\\pipelines\\__init__.py:535\u001b[0m, in \u001b[0;36mcheck_task\u001b[1;34m(task)\u001b[0m\n\u001b[0;32m    490\u001b[0m \u001b[38;5;28;01mdef\u001b[39;00m \u001b[38;5;21mcheck_task\u001b[39m(task: \u001b[38;5;28mstr\u001b[39m) \u001b[38;5;241m-\u001b[39m\u001b[38;5;241m>\u001b[39m Tuple[\u001b[38;5;28mstr\u001b[39m, Dict, Any]:\n\u001b[0;32m    491\u001b[0m \u001b[38;5;250m    \u001b[39m\u001b[38;5;124;03m\"\"\"\u001b[39;00m\n\u001b[0;32m    492\u001b[0m \u001b[38;5;124;03m    Checks an incoming task string, to validate it's correct and return the default Pipeline and Model classes, and\u001b[39;00m\n\u001b[0;32m    493\u001b[0m \u001b[38;5;124;03m    default models if they exist.\u001b[39;00m\n\u001b[1;32m   (...)\u001b[0m\n\u001b[0;32m    533\u001b[0m \n\u001b[0;32m    534\u001b[0m \u001b[38;5;124;03m    \"\"\"\u001b[39;00m\n\u001b[1;32m--> 535\u001b[0m     \u001b[38;5;28;01mreturn\u001b[39;00m \u001b[43mPIPELINE_REGISTRY\u001b[49m\u001b[38;5;241;43m.\u001b[39;49m\u001b[43mcheck_task\u001b[49m\u001b[43m(\u001b[49m\u001b[43mtask\u001b[49m\u001b[43m)\u001b[49m\n",
      "File \u001b[1;32mc:\\Users\\Dilina Pramodya\\AppData\\Local\\Programs\\Python\\Python312\\Lib\\site-packages\\transformers\\pipelines\\base.py:1384\u001b[0m, in \u001b[0;36mPipelineRegistry.check_task\u001b[1;34m(self, task)\u001b[0m\n\u001b[0;32m   1381\u001b[0m         \u001b[38;5;28;01mreturn\u001b[39;00m task, targeted_task, (tokens[\u001b[38;5;241m1\u001b[39m], tokens[\u001b[38;5;241m3\u001b[39m])\n\u001b[0;32m   1382\u001b[0m     \u001b[38;5;28;01mraise\u001b[39;00m \u001b[38;5;167;01mKeyError\u001b[39;00m(\u001b[38;5;124mf\u001b[39m\u001b[38;5;124m\"\u001b[39m\u001b[38;5;124mInvalid translation task \u001b[39m\u001b[38;5;132;01m{\u001b[39;00mtask\u001b[38;5;132;01m}\u001b[39;00m\u001b[38;5;124m, use \u001b[39m\u001b[38;5;124m'\u001b[39m\u001b[38;5;124mtranslation_XX_to_YY\u001b[39m\u001b[38;5;124m'\u001b[39m\u001b[38;5;124m format\u001b[39m\u001b[38;5;124m\"\u001b[39m)\n\u001b[1;32m-> 1384\u001b[0m \u001b[38;5;28;01mraise\u001b[39;00m \u001b[38;5;167;01mKeyError\u001b[39;00m(\n\u001b[0;32m   1385\u001b[0m     \u001b[38;5;124mf\u001b[39m\u001b[38;5;124m\"\u001b[39m\u001b[38;5;124mUnknown task \u001b[39m\u001b[38;5;132;01m{\u001b[39;00mtask\u001b[38;5;132;01m}\u001b[39;00m\u001b[38;5;124m, available tasks are \u001b[39m\u001b[38;5;132;01m{\u001b[39;00m\u001b[38;5;28mself\u001b[39m\u001b[38;5;241m.\u001b[39mget_supported_tasks()\u001b[38;5;250m \u001b[39m\u001b[38;5;241m+\u001b[39m\u001b[38;5;250m \u001b[39m[\u001b[38;5;124m'\u001b[39m\u001b[38;5;124mtranslation_XX_to_YY\u001b[39m\u001b[38;5;124m'\u001b[39m]\u001b[38;5;132;01m}\u001b[39;00m\u001b[38;5;124m\"\u001b[39m\n\u001b[0;32m   1386\u001b[0m )\n",
      "\u001b[1;31mKeyError\u001b[0m: \"Unknown task conversational, available tasks are ['audio-classification', 'automatic-speech-recognition', 'depth-estimation', 'document-question-answering', 'feature-extraction', 'fill-mask', 'image-classification', 'image-feature-extraction', 'image-segmentation', 'image-to-image', 'image-to-text', 'mask-generation', 'ner', 'object-detection', 'question-answering', 'sentiment-analysis', 'summarization', 'table-question-answering', 'text-classification', 'text-generation', 'text-to-audio', 'text-to-speech', 'text2text-generation', 'token-classification', 'translation', 'video-classification', 'visual-question-answering', 'vqa', 'zero-shot-audio-classification', 'zero-shot-classification', 'zero-shot-image-classification', 'zero-shot-object-detection', 'translation_XX_to_YY']\""
     ]
    }
   ],
   "source": [
    "from transformers import pipeline\n",
    "\n",
    "chatbot = pipeline(task=\"conversational\",\n",
    "                   model=\"./models/facebook/blenderbot-400M-distill\")"
   ]
  },
  {
   "cell_type": "code",
   "execution_count": null,
   "metadata": {},
   "outputs": [],
   "source": [
    "user_message = \"\"\"\n",
    "    What are the top trails in Sri Lanka during November?\n",
    " \"\"\"\n"
   ]
  },
  {
   "cell_type": "code",
   "execution_count": null,
   "metadata": {},
   "outputs": [],
   "source": [
    "from transformers import Conversation"
   ]
  },
  {
   "cell_type": "code",
   "execution_count": null,
   "metadata": {},
   "outputs": [],
   "source": [
    "conversation = Conversation(user_message)\n",
    "print(Conversation)"
   ]
  },
  {
   "cell_type": "code",
   "execution_count": null,
   "metadata": {},
   "outputs": [],
   "source": [
    "conversation = chatbot(conversation)\n",
    "print(conversation)"
   ]
  },
  {
   "cell_type": "code",
   "execution_count": null,
   "metadata": {},
   "outputs": [],
   "source": [
    "conversation.add_message(\n",
    "    {\"role\": \"user\",\n",
    "     \"content\": \"\"\"\n",
    "What else do you recommend?\n",
    "\"\"\"\n",
    "    })\n",
    "\n",
    "print(conversation)"
   ]
  },
  {
   "cell_type": "code",
   "execution_count": null,
   "metadata": {},
   "outputs": [],
   "source": [
    "conversation = chatbot(conversation)\n",
    "\n",
    "print(conversation)"
   ]
  }
 ],
 "metadata": {
  "kernelspec": {
   "display_name": "Python 3",
   "language": "python",
   "name": "python3"
  },
  "language_info": {
   "codemirror_mode": {
    "name": "ipython",
    "version": 3
   },
   "file_extension": ".py",
   "mimetype": "text/x-python",
   "name": "python",
   "nbconvert_exporter": "python",
   "pygments_lexer": "ipython3",
   "version": "3.12.6"
  }
 },
 "nbformat": 4,
 "nbformat_minor": 2
}
